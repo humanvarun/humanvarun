{
  "nbformat": 4,
  "nbformat_minor": 0,
  "metadata": {
    "colab": {
      "provenance": [],
      "authorship_tag": "ABX9TyNbM0yb0lk9V27jZOjIizEq",
      "include_colab_link": true
    },
    "kernelspec": {
      "name": "python3",
      "display_name": "Python 3"
    },
    "language_info": {
      "name": "python"
    }
  },
  "cells": [
    {
      "cell_type": "markdown",
      "metadata": {
        "id": "view-in-github",
        "colab_type": "text"
      },
      "source": [
        "<a href=\"https://colab.research.google.com/github/humanvarun/humanvarun/blob/main/basic.ipynb\" target=\"_parent\"><img src=\"https://colab.research.google.com/assets/colab-badge.svg\" alt=\"Open In Colab\"/></a>"
      ]
    },
    {
      "cell_type": "markdown",
      "source": [
        "#Perceptron"
      ],
      "metadata": {
        "id": "ttnUdvBmcRL8"
      }
    },
    {
      "cell_type": "markdown",
      "source": [
        "###Importing Libraries"
      ],
      "metadata": {
        "id": "JFfl4jOHdEny"
      }
    },
    {
      "cell_type": "code",
      "execution_count": 6,
      "metadata": {
        "id": "8uLR2VnUb_M2"
      },
      "outputs": [],
      "source": [
        "from numpy import array #For Array Initialization\n",
        "from numpy import random #For Randomly choosing Numbers\n",
        "from numpy import dot #For Doing DOT Product\n",
        "from random import choice\n",
        "import numpy as np #Import numpy for array operations"
      ]
    },
    {
      "cell_type": "markdown",
      "source": [
        "###Activation Function"
      ],
      "metadata": {
        "id": "FFm7oVDLckif"
      }
    },
    {
      "cell_type": "code",
      "source": [
        "activationFn = lambda x: 0 if x < 0 else 1 #step activation function (if i/p is negative o/p is 0 else 1)"
      ],
      "metadata": {
        "id": "zWiCOzfXfmbp"
      },
      "execution_count": 7,
      "outputs": []
    },
    {
      "cell_type": "markdown",
      "source": [
        "###initializing Dataset"
      ],
      "metadata": {
        "id": "efwJe5Vnc4Av"
      }
    },
    {
      "cell_type": "code",
      "source": [
        "dataset = [\n",
        "    (array([0,0,1]), 0), #array([x,y,b],e) x,y=Input , b=bias, e=Expected O/P to validate\n",
        "    (array([0,1,1]), 1),\n",
        "    (array([1,0,1]), 1),\n",
        "    (array([1,1,1]), 1),\n",
        "]\n",
        "print(dataset)"
      ],
      "metadata": {
        "colab": {
          "base_uri": "https://localhost:8080/"
        },
        "id": "lvZ6Ayckc5g-",
        "outputId": "1d9ad587-84c7-4dca-806a-25d5e6d448aa"
      },
      "execution_count": 14,
      "outputs": [
        {
          "output_type": "stream",
          "name": "stdout",
          "text": [
            "[(array([0, 0, 1]), 0), (array([0, 1, 1]), 1), (array([1, 0, 1]), 1), (array([1, 1, 1]), 1)]\n"
          ]
        }
      ]
    },
    {
      "cell_type": "markdown",
      "source": [
        "###Initializing Random numbers for WEIGHTS"
      ],
      "metadata": {
        "id": "8U91MzczdB7P"
      }
    },
    {
      "cell_type": "code",
      "source": [
        "weights = random.rand(3)"
      ],
      "metadata": {
        "id": "XhT9aWvsdHk4"
      },
      "execution_count": 19,
      "outputs": []
    },
    {
      "cell_type": "markdown",
      "source": [
        "###Initializing additional variables"
      ],
      "metadata": {
        "id": "sQbuoxv0gw31"
      }
    },
    {
      "cell_type": "code",
      "source": [
        "r = 0.2 #learning Rate\n",
        "n = 100 #Number of Iteration"
      ],
      "metadata": {
        "id": "zXofFO7cgynn"
      },
      "execution_count": 10,
      "outputs": []
    },
    {
      "cell_type": "markdown",
      "source": [
        "###Training our Model"
      ],
      "metadata": {
        "id": "VUNlTAFSgV5n"
      }
    },
    {
      "cell_type": "code",
      "source": [
        "for j in range(n):\n",
        "    x, expected = choice(dataset) #random input set, Includes repeated numbers\n",
        "    #print(x,expected)\n",
        "    result = dot(weights, x) #dot product of the input and the weight vectors\n",
        "    err = expected-activationFn(result)\n",
        "    weights += r * err * x #calculate the correction factor, added to weights to improve o/p in next iteration\n",
        "    #If the expected value is bigger, the weights should be increased, and if expected value is smaller, the weights should be decreased"
      ],
      "metadata": {
        "colab": {
          "base_uri": "https://localhost:8080/",
          "height": 263
        },
        "id": "CRT8l0_jgZRW",
        "outputId": "7780d807-2964-4931-ba7e-bca58aebb2d0"
      },
      "execution_count": 28,
      "outputs": [
        {
          "output_type": "error",
          "ename": "ValueError",
          "evalue": "setting an array element with a sequence. The requested array has an inhomogeneous shape after 2 dimensions. The detected shape was (4, 2) + inhomogeneous part.",
          "traceback": [
            "\u001b[0;31m---------------------------------------------------------------------------\u001b[0m",
            "\u001b[0;31mValueError\u001b[0m                                Traceback (most recent call last)",
            "\u001b[0;32m<ipython-input-28-85425ac25106>\u001b[0m in \u001b[0;36m<cell line: 0>\u001b[0;34m()\u001b[0m\n\u001b[1;32m      1\u001b[0m \u001b[0;32mfor\u001b[0m \u001b[0mj\u001b[0m \u001b[0;32min\u001b[0m \u001b[0mrange\u001b[0m\u001b[0;34m(\u001b[0m\u001b[0mn\u001b[0m\u001b[0;34m)\u001b[0m\u001b[0;34m:\u001b[0m\u001b[0;34m\u001b[0m\u001b[0;34m\u001b[0m\u001b[0m\n\u001b[0;32m----> 2\u001b[0;31m     \u001b[0mx\u001b[0m\u001b[0;34m,\u001b[0m \u001b[0mexpected\u001b[0m \u001b[0;34m=\u001b[0m \u001b[0mrandom\u001b[0m\u001b[0;34m.\u001b[0m\u001b[0mchoice\u001b[0m\u001b[0;34m(\u001b[0m\u001b[0mdataset\u001b[0m\u001b[0;34m)\u001b[0m \u001b[0;31m#random input set, Includes repeated numbers\u001b[0m\u001b[0;34m\u001b[0m\u001b[0;34m\u001b[0m\u001b[0m\n\u001b[0m\u001b[1;32m      3\u001b[0m     \u001b[0;31m#print(x,expected)\u001b[0m\u001b[0;34m\u001b[0m\u001b[0;34m\u001b[0m\u001b[0m\n\u001b[1;32m      4\u001b[0m     \u001b[0mresult\u001b[0m \u001b[0;34m=\u001b[0m \u001b[0mdot\u001b[0m\u001b[0;34m(\u001b[0m\u001b[0mweights\u001b[0m\u001b[0;34m,\u001b[0m \u001b[0mx\u001b[0m\u001b[0;34m)\u001b[0m \u001b[0;31m#dot product of the input and the weight vectors\u001b[0m\u001b[0;34m\u001b[0m\u001b[0;34m\u001b[0m\u001b[0m\n\u001b[1;32m      5\u001b[0m     \u001b[0merr\u001b[0m \u001b[0;34m=\u001b[0m \u001b[0mexpected\u001b[0m\u001b[0;34m-\u001b[0m\u001b[0mactivationFn\u001b[0m\u001b[0;34m(\u001b[0m\u001b[0mresult\u001b[0m\u001b[0;34m)\u001b[0m\u001b[0;34m\u001b[0m\u001b[0;34m\u001b[0m\u001b[0m\n",
            "\u001b[0;32mnumpy/random/mtrand.pyx\u001b[0m in \u001b[0;36mnumpy.random.mtrand.RandomState.choice\u001b[0;34m()\u001b[0m\n",
            "\u001b[0;31mValueError\u001b[0m: setting an array element with a sequence. The requested array has an inhomogeneous shape after 2 dimensions. The detected shape was (4, 2) + inhomogeneous part."
          ]
        }
      ]
    },
    {
      "cell_type": "markdown",
      "source": [],
      "metadata": {
        "id": "-k-_5n7HgdoV"
      }
    },
    {
      "cell_type": "markdown",
      "source": [
        "###Evaluating Model"
      ],
      "metadata": {
        "id": "9kcsJuwBge5c"
      }
    },
    {
      "cell_type": "code",
      "source": [
        "for x, _ in dataset:\n",
        "    result = dot(x, weights)\n",
        "    print(\"Input: {}  ResultBAFn: {} ResultAFn: {}\".format(x[:2], round(result,3), activationFn(result)))"
      ],
      "metadata": {
        "colab": {
          "base_uri": "https://localhost:8080/"
        },
        "id": "Fvf3rY_JghCm",
        "outputId": "3812ed24-36f4-4900-c460-f7f643b2b7ab"
      },
      "execution_count": 29,
      "outputs": [
        {
          "output_type": "stream",
          "name": "stdout",
          "text": [
            "Input: [0 0]  ResultBAFn: 0.481 ResultAFn: 1\n",
            "Input: [0 1]  ResultBAFn: 0.567 ResultAFn: 1\n",
            "Input: [1 0]  ResultBAFn: 0.507 ResultAFn: 1\n",
            "Input: [1 1]  ResultBAFn: 0.593 ResultAFn: 1\n"
          ]
        }
      ]
    }
  ]
}